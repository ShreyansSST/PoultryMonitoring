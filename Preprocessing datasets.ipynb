{
 "cells": [
  {
   "cell_type": "markdown",
   "id": "6d3ac6aa",
   "metadata": {},
   "source": [
    "---"
   ]
  },
  {
   "cell_type": "code",
   "execution_count": 4,
   "id": "4c0ea61e",
   "metadata": {},
   "outputs": [],
   "source": [
    "# Imports \n",
    "# open folder\n",
    "from os import makedirs\n",
    "from os import listdir\n",
    "import os\n",
    "from shutil import copyfile\n",
    "\n",
    "# open image\n",
    "import cv2\n",
    "from PIL import Image\n",
    "\n",
    "# random \n",
    "from random import seed\n",
    "from random import random\n",
    "\n",
    "# basic\n",
    "import pandas as pd\n",
    "import matplotlib.pyplot as plt\n",
    "import numpy as np\n",
    "\n",
    "# image augmentation\n",
    "import albumentations as A"
   ]
  },
  {
   "cell_type": "code",
   "execution_count": 24,
   "id": "119809c3",
   "metadata": {},
   "outputs": [],
   "source": [
    "# create diretories \n",
    "# train test validate\n",
    "dataset_home = 'dataset_train_valid_test/' # name of diretories\n",
    "subdirs = ['train/', 'valid/','test/'] # sub diretories\n",
    "for subdir in subdirs:\n",
    "    # create label subdirectories\n",
    "    labeldirs = ['pcrcocci/', 'pcrhealthy/','pcrncd/']\n",
    "    for labldir in labeldirs:\n",
    "        newdir = dataset_home + subdir + labldir\n",
    "        makedirs(newdir, exist_ok=True)"
   ]
  },
  {
   "cell_type": "code",
   "execution_count": 25,
   "id": "19ed715e",
   "metadata": {},
   "outputs": [],
   "source": [
    "# seed random number generator\n",
    "seed(42)\n",
    "\n",
    "# define ratio of pictures to divide \n",
    "# train:80/test:10/valid:10 \n",
    "val_ratio_1 = 0.2 # divide 80/20 of all data \n",
    "val_ratio_2 = 0.5 # divide 50/50 of divided 20% all data"
   ]
  },
  {
   "cell_type": "code",
   "execution_count": 26,
   "id": "b30503b2",
   "metadata": {},
   "outputs": [],
   "source": [
    "# you can `download dataset form https://doi.org/10.5281/zenodo.5801834, https://doi.org/10.5281/zenodo.4628934`\n",
    "# and bring all together in a folder \n",
    "# you must rename image data for pcr dataset such as pcrcocci.1.jpg to cocci.x.jpg\n",
    "# (x follow by after order from farmmer-labeled dataset)\n",
    "src_directory = 'dataset' # path diretories have all data\n",
    "\n",
    "# random data form all diretories to of each subdirectories\n",
    "for file in listdir(src_directory):\n",
    "    src = src_directory + '/' + file\n",
    "    dst_dir = 'train/'\n",
    "    \n",
    "    # train valid test split\n",
    "    if random() < val_ratio_1: # 80/20\n",
    "        if random() < val_ratio_2: # 50/50 \n",
    "            dst_dir = 'test/'\n",
    "        else :\n",
    "            dst_dir = 'valid/'\n",
    "            \n",
    "    # copyimages into subdirectories\n",
    "    if file.startswith('pcrcocci'):\n",
    "        dst = dataset_home + dst_dir + 'pcrcocci/'+ file\n",
    "        copyfile(src, dst)\n",
    "    elif file.startswith('pcrhealthy'):\n",
    "        dst = dataset_home + dst_dir + 'pcrhealthy/' + file\n",
    "        copyfile(src, dst)\n",
    "    elif file.startswith('pcrncd'):\n",
    "        dst = dataset_home + dst_dir + 'pcrncd/' + file\n",
    "        copyfile(src, dst)"
   ]
  },
  {
   "cell_type": "code",
   "execution_count": 28,
   "id": "6848108c",
   "metadata": {},
   "outputs": [],
   "source": [
    "# Recheck\n",
    "# cocci in train\n",
    "train_cocci = len(listdir('dataset_train_valid_test/train/pcrcocci/'))\n",
    "# cocci in test\n",
    "test_cocci = len(listdir('dataset_train_valid_test/test/pcrcocci/'))\n",
    "# cocci in valid\n",
    "valid_cocci = len(listdir('dataset_train_valid_test/valid/pcrcocci/'))"
   ]
  },
  {
   "cell_type": "code",
   "execution_count": 29,
   "id": "88b1c919",
   "metadata": {},
   "outputs": [
    {
     "name": "stdout",
     "output_type": "stream",
     "text": [
      "train : 0.81\n",
      "test : 0.107\n",
      "validate : 0.083\n"
     ]
    }
   ],
   "source": [
    "# Show percent of each subdirectories in cocci class\n",
    "print(f\"train : {round(train_cocci/(train_cocci+test_cocci+valid_cocci),3)}\")\n",
    "print(f\"test : {round(test_cocci/(train_cocci+test_cocci+valid_cocci),3)}\")\n",
    "print(f\"validate : {round(valid_cocci/(train_cocci+test_cocci+valid_cocci),3)}\")"
   ]
  },
  {
   "cell_type": "markdown",
   "id": "c2c67f24",
   "metadata": {},
   "source": [
    "---"
   ]
  },
  {
   "cell_type": "markdown",
   "id": "8d83999a",
   "metadata": {},
   "source": [
    "## 02. Image augmentation\n",
    "---"
   ]
  },
  {
   "cell_type": "code",
   "execution_count": 30,
   "id": "fa315e72",
   "metadata": {},
   "outputs": [],
   "source": [
    "# check number of each group in train subdirectories\n",
    "train_cocci = len(listdir('dataset_train_valid_test/train/pcrcocci/'))\n",
    "train_ncd = len(listdir('dataset_train_valid_test/train/pcrncd/'))\n",
    "train_healthy = len(listdir('dataset_train_valid_test/train/pcrhealthy/'))"
   ]
  },
  {
   "cell_type": "code",
   "execution_count": 31,
   "id": "cf64c362",
   "metadata": {},
   "outputs": [
    {
     "name": "stdout",
     "output_type": "stream",
     "text": [
      "Train dataset cocci class : 302\n",
      "Train dataset ncd class : 146\n",
      "Train dataset healthy class : 291\n"
     ]
    }
   ],
   "source": [
    "# imbalance class in ncd just have 450 image\n",
    "print(f\"Train dataset cocci class : {train_cocci}\")\n",
    "print(f\"Train dataset ncd class : {train_ncd}\")\n",
    "print(f\"Train dataset healthy class : {train_healthy}\")"
   ]
  },
  {
   "cell_type": "code",
   "execution_count": 32,
   "id": "6f414f1f",
   "metadata": {},
   "outputs": [],
   "source": [
    "# use technique image augmentation for increase image data in class ncd\n",
    "# for help imbalance class problem\n",
    "\n",
    "# image augmentation flip horizontal(mirror) image \n",
    "transform_flip = A.Compose([A.HorizontalFlip(always_apply=True)])\n",
    "\n",
    "# image augmentation rotation image 45 degree angle, rescale 10% and shift 0.062%\n",
    "transform_shift = A.Compose([A.ShiftScaleRotate(shift_limit=(0.0625, 0.0625), \n",
    "                                                scale_limit=(0.1, 0.1), \n",
    "                                                rotate_limit=(45, 45),\n",
    "                                                p=1.0)])\n",
    "\n",
    "# image augmentation add gaussian noise and decrease brightness\n",
    "transform_noise = A.Compose([A.GaussNoise(var_limit=(100,200),\n",
    "                                         mean=-30,\n",
    "                                         p=1.0)])\n",
    "\n",
    "# soure code and example\n",
    "# https://github.com/albumentations-team/albumentations#pixel-level-transforms\n",
    "# https://tugot17.github.io/data-science-blog/albumentations/data-augmentation/tutorial/2020/09/20/Pixel-level-transforms-using-albumentations-package.html"
   ]
  },
  {
   "cell_type": "code",
   "execution_count": 34,
   "id": "d4845ee7",
   "metadata": {},
   "outputs": [],
   "source": [
    "# open sample image data\n",
    "image = cv2.imread(\"./dataset_train_valid_test/train/pcrncd/pcrncd.13.jpg\")\n",
    "image = cv2.cvtColor(image, cv2.COLOR_BGR2RGB) # convert to pixel numpy array\n",
    "\n",
    "# transform filp and shift\n",
    "transformed_flip = transform_flip(image=image)['image']\n",
    "transformed_shift = transform_shift(image=image)['image']\n",
    "transformed_noise = transform_noise(image=image)['image']"
   ]
  },
  {
   "cell_type": "code",
   "execution_count": 36,
   "id": "f2eb2bd8",
   "metadata": {},
   "outputs": [],
   "source": [
    "# loop for use augmentation of each image in train directory class ncd\n",
    "src_directory = \"dataset_train_valid_test/train/pcrncd/\"\n",
    "\n",
    "for file in listdir(src_directory):\n",
    "    image = cv2.imread(src_directory + file)\n",
    "    image = cv2.cvtColor(image, cv2.COLOR_BGR2RGB)\n",
    "    \n",
    "    # transform and save new flie\n",
    "    transformed_flip = transform_flip(image=image)['image']\n",
    "    cv2.imwrite(src_directory + file[:-4] + \"flip.jpg\", cv2.cvtColor(transformed_flip, cv2.COLOR_RGB2BGR))\n",
    "    \n",
    "    transformed_shift = transform_shift(image=image)['image']\n",
    "    cv2.imwrite(src_directory + file[:-4] + \"ship.jpg\", cv2.cvtColor(transformed_shift, cv2.COLOR_RGB2BGR))\n",
    "    \n",
    "    transformed_noise = transform_noise(image=image)['image']\n",
    "    cv2.imwrite(src_directory + file[:-4] + \"noise.jpg\", cv2.cvtColor(transformed_noise, cv2.COLOR_RGB2BGR))"
   ]
  },
  {
   "cell_type": "code",
   "execution_count": 39,
   "id": "823e1a3a",
   "metadata": {},
   "outputs": [],
   "source": [
    "# loop for use augmentation of each image in train directory class ncd\n",
    "src_directory = \"dataset_train_valid_test/train/pcrhealthy/\"\n",
    "\n",
    "for file in listdir(src_directory):\n",
    "    image = cv2.imread(src_directory + file)\n",
    "    image = cv2.cvtColor(image, cv2.COLOR_BGR2RGB)\n",
    "    \n",
    "    # transform and save new flie\n",
    "    transformed_flip = transform_flip(image=image)['image']\n",
    "    cv2.imwrite(src_directory + file[:-4] + \"flip.jpg\", cv2.cvtColor(transformed_flip, cv2.COLOR_RGB2BGR))\n",
    "    \n",
    "    transformed_shift = transform_shift(image=image)['image']\n",
    "    cv2.imwrite(src_directory + file[:-4] + \"ship.jpg\", cv2.cvtColor(transformed_shift, cv2.COLOR_RGB2BGR))\n",
    "    \n",
    "    transformed_noise = transform_noise(image=image)['image']\n",
    "    cv2.imwrite(src_directory + file[:-4] + \"noise.jpg\", cv2.cvtColor(transformed_noise, cv2.COLOR_RGB2BGR))"
   ]
  },
  {
   "cell_type": "code",
   "execution_count": 41,
   "id": "e30c8eaa",
   "metadata": {},
   "outputs": [],
   "source": [
    "# loop for use augmentation of each image in train directory class ncd\n",
    "src_directory = \"dataset_train_valid_test/train/pcrcocci/\"\n",
    "\n",
    "for file in listdir(src_directory):\n",
    "    image = cv2.imread(src_directory + file)\n",
    "    image = cv2.cvtColor(image, cv2.COLOR_BGR2RGB)\n",
    "    \n",
    "    # transform and save new flie\n",
    "    transformed_flip = transform_flip(image=image)['image']\n",
    "    cv2.imwrite(src_directory + file[:-4] + \"flip.jpg\", cv2.cvtColor(transformed_flip, cv2.COLOR_RGB2BGR))\n",
    "    \n",
    "    transformed_shift = transform_shift(image=image)['image']\n",
    "    cv2.imwrite(src_directory + file[:-4] + \"ship.jpg\", cv2.cvtColor(transformed_shift, cv2.COLOR_RGB2BGR))\n",
    "    \n",
    "    transformed_noise = transform_noise(image=image)['image']\n",
    "    cv2.imwrite(src_directory + file[:-4] + \"noise.jpg\", cv2.cvtColor(transformed_noise, cv2.COLOR_RGB2BGR))"
   ]
  },
  {
   "cell_type": "code",
   "execution_count": 45,
   "id": "5822d26f",
   "metadata": {},
   "outputs": [
    {
     "name": "stdout",
     "output_type": "stream",
     "text": [
      "Train dataset cocci class : 1208\n",
      "Train dataset ncd class : 584\n",
      "Train dataset healthy class : 1164\n"
     ]
    }
   ],
   "source": [
    "# recheck\n",
    "# we have image ncd class 1800 image \n",
    "train_ncd = len(listdir('dataset_train_valid_test/train/pcrncd/'))\n",
    "train_cocci = len(listdir('dataset_train_valid_test/train/pcrcocci/'))\n",
    "train_healthy = len(listdir('dataset_train_valid_test/train/pcrhealthy/'))\n",
    "print(f\"Train dataset cocci class : {train_cocci}\")\n",
    "print(f\"Train dataset ncd class : {train_ncd}\")\n",
    "print(f\"Train dataset healthy class : {train_healthy}\")"
   ]
  },
  {
   "cell_type": "markdown",
   "id": "2eb2279d",
   "metadata": {},
   "source": [
    "---"
   ]
  },
  {
   "cell_type": "code",
   "execution_count": null,
   "id": "0ec7a263",
   "metadata": {},
   "outputs": [],
   "source": []
  }
 ],
 "metadata": {
  "kernelspec": {
   "display_name": "Python 3 (ipykernel)",
   "language": "python",
   "name": "python3"
  },
  "language_info": {
   "codemirror_mode": {
    "name": "ipython",
    "version": 3
   },
   "file_extension": ".py",
   "mimetype": "text/x-python",
   "name": "python",
   "nbconvert_exporter": "python",
   "pygments_lexer": "ipython3",
   "version": "3.12.1"
  }
 },
 "nbformat": 4,
 "nbformat_minor": 5
}
